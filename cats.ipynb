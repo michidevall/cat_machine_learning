{
 "cells": [
  {
   "cell_type": "code",
   "execution_count": 14,
   "id": "f392741f",
   "metadata": {},
   "outputs": [],
   "source": [
    "from keras.models import Sequential\n",
    "from keras.layers import Conv2D,Activation,MaxPooling2D,Dense,Flatten,Dropout\n",
    "from keras.preprocessing.image import ImageDataGenerator\n",
    "train_datagen = ImageDataGenerator(rescale =1. /255,\n",
    "                                  shear_range =0.2,\n",
    "                                  zoom_range = 0.2,\n",
    "                                  horizontal_flip = True)\n",
    "test_datagen = ImageDataGenerator(rescale = 1./255)\n",
    "import numpy as np"
   ]
  },
  {
   "cell_type": "code",
   "execution_count": 8,
   "id": "b4118850",
   "metadata": {},
   "outputs": [
    {
     "name": "stdout",
     "output_type": "stream",
     "text": [
      "Model: \"sequential_4\"\n",
      "_________________________________________________________________\n",
      " Layer (type)                Output Shape              Param #   \n",
      "=================================================================\n",
      " conv2d_8 (Conv2D)           (None, 62, 62, 32)        896       \n",
      "                                                                 \n",
      " activation_9 (Activation)   (None, 62, 62, 32)        0         \n",
      "                                                                 \n",
      " max_pooling2d_8 (MaxPooling  (None, 31, 31, 32)       0         \n",
      " 2D)                                                             \n",
      "                                                                 \n",
      " conv2d_9 (Conv2D)           (None, 29, 29, 32)        9248      \n",
      "                                                                 \n",
      " activation_10 (Activation)  (None, 29, 29, 32)        0         \n",
      "                                                                 \n",
      " max_pooling2d_9 (MaxPooling  (None, 14, 14, 32)       0         \n",
      " 2D)                                                             \n",
      "                                                                 \n",
      " conv2d_10 (Conv2D)          (None, 12, 12, 32)        9248      \n",
      "                                                                 \n",
      " activation_11 (Activation)  (None, 12, 12, 32)        0         \n",
      "                                                                 \n",
      " max_pooling2d_10 (MaxPoolin  (None, 6, 6, 32)         0         \n",
      " g2D)                                                            \n",
      "                                                                 \n",
      " flatten_1 (Flatten)         (None, 1152)              0         \n",
      "                                                                 \n",
      " dense_2 (Dense)             (None, 64)                73792     \n",
      "                                                                 \n",
      " activation_12 (Activation)  (None, 64)                0         \n",
      "                                                                 \n",
      " dropout_1 (Dropout)         (None, 64)                0         \n",
      "                                                                 \n",
      " dense_3 (Dense)             (None, 1)                 65        \n",
      "                                                                 \n",
      " activation_13 (Activation)  (None, 1)                 0         \n",
      "                                                                 \n",
      "=================================================================\n",
      "Total params: 93,249\n",
      "Trainable params: 93,249\n",
      "Non-trainable params: 0\n",
      "_________________________________________________________________\n"
     ]
    }
   ],
   "source": [
    "classifier = Sequential()\n",
    "classifier.add(Conv2D(32,(3,3),input_shape=(64,64,3)))\n",
    "classifier.add(Activation('relu'))\n",
    "classifier.add(MaxPooling2D(pool_size =(2,2)))\n",
    "classifier.add(Conv2D(32,(3,3),input_shape=(64,64,3)))\n",
    "classifier.add(Activation('relu'))\n",
    "classifier.add(MaxPooling2D(pool_size =(2,2)))\n",
    "classifier.add(Conv2D(32,(3,3),input_shape=(64,64,3)))\n",
    "classifier.add(Activation('relu'))\n",
    "classifier.add(MaxPooling2D(pool_size =(2,2)))\n",
    "classifier.add(Flatten())\n",
    "classifier.add(Dense(64))\n",
    "classifier.add(Activation('relu'))\n",
    "classifier.add(Dropout(0.5))\n",
    "classifier.add(Dense(1))\n",
    "classifier.add(Activation('sigmoid'))\n",
    "classifier.summary()\n"
   ]
  },
  {
   "cell_type": "code",
   "execution_count": 13,
   "id": "32387c1f",
   "metadata": {},
   "outputs": [],
   "source": [
    "classifier.compile(optimizer ='rmsprop',\n",
    "                  loss ='binary_crossentropy',\n",
    "                  metrics =['accuracy'])"
   ]
  },
  {
   "cell_type": "code",
   "execution_count": null,
   "id": "85780441",
   "metadata": {},
   "outputs": [],
   "source": []
  },
  {
   "cell_type": "code",
   "execution_count": null,
   "id": "596b96d7",
   "metadata": {},
   "outputs": [],
   "source": []
  }
 ],
 "metadata": {
  "kernelspec": {
   "display_name": "Python 3",
   "language": "python",
   "name": "python3"
  },
  "language_info": {
   "codemirror_mode": {
    "name": "ipython",
    "version": 3
   },
   "file_extension": ".py",
   "mimetype": "text/x-python",
   "name": "python",
   "nbconvert_exporter": "python",
   "pygments_lexer": "ipython3",
   "version": "3.8.8"
  }
 },
 "nbformat": 4,
 "nbformat_minor": 5
}
